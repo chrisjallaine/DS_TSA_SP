{
  "nbformat": 4,
  "nbformat_minor": 0,
  "metadata": {
    "colab": {
      "provenance": [],
      "include_colab_link": true
    },
    "kernelspec": {
      "name": "python3",
      "display_name": "Python 3"
    },
    "language_info": {
      "name": "python"
    }
  },
  "cells": [
    {
      "cell_type": "markdown",
      "metadata": {
        "id": "view-in-github",
        "colab_type": "text"
      },
      "source": [
        "<a href=\"https://colab.research.google.com/github/chrisjallaine/DS_TSA_SP/blob/main/TSA_and_SA_Group_1.ipynb\" target=\"_parent\"><img src=\"https://colab.research.google.com/assets/colab-badge.svg\" alt=\"Open In Colab\"/></a>"
      ]
    },
    {
      "cell_type": "markdown",
      "source": [
        "# Case-study and Application of Time Series Analysis on Select-Disciplines\n",
        "\n",
        "**Topic:** Economics"
      ],
      "metadata": {
        "id": "LMSk-9YTaVUN"
      }
    },
    {
      "cell_type": "markdown",
      "source": [
        "**Group:** Group 1  \n",
        "\n",
        "---\n",
        "\n",
        "### 👥 Members\n",
        "- Abainza, Usher Raymond  \n",
        "- Casiño, Dane Casey  \n",
        "- Culanggo, Kein Jake  \n",
        "- Felisilda, Genheylou  \n",
        "- Mosqueda, Visaviern  \n",
        "- Mugot, Chris Jallaine  \n",
        "\n",
        "---\n",
        "\n",
        "**Section:** DS4A  \n",
        "**Course:** *Time Series Analysis and Stochastic Processes*  \n"
      ],
      "metadata": {
        "id": "bmS4-Qqyb80m"
      }
    },
    {
      "cell_type": "markdown",
      "source": [
        "# **Earnings and Obligations: How Filipinos’ Income and the Nation’s Debt Reveal the True Balance of the Economy**  \n",
        "\n",
        "---\n",
        "\n",
        "## 📝 Overview  \n",
        "Economic indicators often tell different sides of the same story. **Gross National Income (GNI)** reflects how much Filipinos earn locally and abroad, while the **Inflation Rate** shows how rising prices affect the real value of that income.  \n",
        "\n",
        "By looking at these two together as a time series, this study explores whether higher earnings truly translate to better living standards—or if inflation quietly erodes those gains.  \n",
        "\n",
        "---\n",
        "\n",
        "## 🎯 Objectives  \n",
        "1. Uncover key insights from GNI and inflation trends across time.  \n",
        "2. Showcase the unique characteristics through a time series data.  \n",
        "3. Tell the story of how income growth and rising prices shape the real economic experience of Filipinos.  \n",
        "\n",
        "---\n"
      ],
      "metadata": {
        "id": "nsHDpWcQcHGu"
      }
    },
    {
      "cell_type": "markdown",
      "source": [
        "## 📂 Dataset Information  \n",
        "\n",
        "We used two datasets sourced from [Macrotrends](https://www.macrotrends.net/), a long-term data platform for investors and researchers.  \n",
        "\n",
        "---\n",
        "\n",
        "### Dataset 1: Philippines Inflation Rate (1965–2024)  \n",
        "🔗 [View Data](https://www.macrotrends.net/global-metrics/countries/phl/philippines/inflation-rate-cpi)  \n",
        "\n",
        "**Metadata:**  \n",
        "- year  \n",
        "- Inflation Rate  \n",
        "\n",
        "---\n",
        "\n",
        "### Dataset 2: Philippines Annual GNI (1965–2024)  \n",
        "🔗 [View Data](https://www.macrotrends.net/global-metrics/countries/phl/philippines/gni-gross-national-income)  \n",
        "\n",
        "**Metadata:**  \n",
        "- year  \n",
        "- GNI  \n"
      ],
      "metadata": {
        "id": "o37y_G4MdOe5"
      }
    },
    {
      "cell_type": "code",
      "source": [
        "import pandas as pd\n",
        "import matplotlib.pyplot as plt\n",
        "import numpy as np\n",
        "import seaborn as sns\n",
        "\n",
        "import warnings\n",
        "warnings.filterwarnings('ignore')"
      ],
      "metadata": {
        "id": "_CF4dz1Jeoai"
      },
      "execution_count": 20,
      "outputs": []
    },
    {
      "cell_type": "code",
      "execution_count": 5,
      "metadata": {
        "id": "3fd0yxylUn-M"
      },
      "outputs": [],
      "source": [
        "# ----------------------\n",
        "# Exploring The Datasets\n",
        "# ----------------------\n",
        "\n",
        "gni = pd.read_csv('ph-gni.csv')\n",
        "inflation = pd.read_csv('ph-inflation.csv')"
      ]
    },
    {
      "cell_type": "code",
      "source": [
        "gni.isnull().sum()\n",
        "inflation.isnull().sum()"
      ],
      "metadata": {
        "colab": {
          "base_uri": "https://localhost:8080/",
          "height": 147
        },
        "id": "PRPWSkeme8ad",
        "outputId": "1eb564c5-c883-407a-e013-f618fd0cae1a"
      },
      "execution_count": 6,
      "outputs": [
        {
          "output_type": "execute_result",
          "data": {
            "text/plain": [
              "year              0\n",
              "Inflation Rate    0\n",
              "dtype: int64"
            ],
            "text/html": [
              "<div>\n",
              "<style scoped>\n",
              "    .dataframe tbody tr th:only-of-type {\n",
              "        vertical-align: middle;\n",
              "    }\n",
              "\n",
              "    .dataframe tbody tr th {\n",
              "        vertical-align: top;\n",
              "    }\n",
              "\n",
              "    .dataframe thead th {\n",
              "        text-align: right;\n",
              "    }\n",
              "</style>\n",
              "<table border=\"1\" class=\"dataframe\">\n",
              "  <thead>\n",
              "    <tr style=\"text-align: right;\">\n",
              "      <th></th>\n",
              "      <th>0</th>\n",
              "    </tr>\n",
              "  </thead>\n",
              "  <tbody>\n",
              "    <tr>\n",
              "      <th>year</th>\n",
              "      <td>0</td>\n",
              "    </tr>\n",
              "    <tr>\n",
              "      <th>Inflation Rate</th>\n",
              "      <td>0</td>\n",
              "    </tr>\n",
              "  </tbody>\n",
              "</table>\n",
              "</div><br><label><b>dtype:</b> int64</label>"
            ]
          },
          "metadata": {},
          "execution_count": 6
        }
      ]
    },
    {
      "cell_type": "code",
      "source": [
        "gni.head(3)"
      ],
      "metadata": {
        "colab": {
          "base_uri": "https://localhost:8080/",
          "height": 143
        },
        "id": "vbwRznvDfQaq",
        "outputId": "53b182e8-5b05-4523-be74-09e609822518"
      },
      "execution_count": 9,
      "outputs": [
        {
          "output_type": "execute_result",
          "data": {
            "text/plain": [
              "   year           GNI\n",
              "0  1962  6.917102e+09\n",
              "1  1963  6.323495e+09\n",
              "2  1964  5.775484e+09"
            ],
            "text/html": [
              "\n",
              "  <div id=\"df-6abb70ba-3e16-42a7-a336-4e8487289c04\" class=\"colab-df-container\">\n",
              "    <div>\n",
              "<style scoped>\n",
              "    .dataframe tbody tr th:only-of-type {\n",
              "        vertical-align: middle;\n",
              "    }\n",
              "\n",
              "    .dataframe tbody tr th {\n",
              "        vertical-align: top;\n",
              "    }\n",
              "\n",
              "    .dataframe thead th {\n",
              "        text-align: right;\n",
              "    }\n",
              "</style>\n",
              "<table border=\"1\" class=\"dataframe\">\n",
              "  <thead>\n",
              "    <tr style=\"text-align: right;\">\n",
              "      <th></th>\n",
              "      <th>year</th>\n",
              "      <th>GNI</th>\n",
              "    </tr>\n",
              "  </thead>\n",
              "  <tbody>\n",
              "    <tr>\n",
              "      <th>0</th>\n",
              "      <td>1962</td>\n",
              "      <td>6.917102e+09</td>\n",
              "    </tr>\n",
              "    <tr>\n",
              "      <th>1</th>\n",
              "      <td>1963</td>\n",
              "      <td>6.323495e+09</td>\n",
              "    </tr>\n",
              "    <tr>\n",
              "      <th>2</th>\n",
              "      <td>1964</td>\n",
              "      <td>5.775484e+09</td>\n",
              "    </tr>\n",
              "  </tbody>\n",
              "</table>\n",
              "</div>\n",
              "    <div class=\"colab-df-buttons\">\n",
              "\n",
              "  <div class=\"colab-df-container\">\n",
              "    <button class=\"colab-df-convert\" onclick=\"convertToInteractive('df-6abb70ba-3e16-42a7-a336-4e8487289c04')\"\n",
              "            title=\"Convert this dataframe to an interactive table.\"\n",
              "            style=\"display:none;\">\n",
              "\n",
              "  <svg xmlns=\"http://www.w3.org/2000/svg\" height=\"24px\" viewBox=\"0 -960 960 960\">\n",
              "    <path d=\"M120-120v-720h720v720H120Zm60-500h600v-160H180v160Zm220 220h160v-160H400v160Zm0 220h160v-160H400v160ZM180-400h160v-160H180v160Zm440 0h160v-160H620v160ZM180-180h160v-160H180v160Zm440 0h160v-160H620v160Z\"/>\n",
              "  </svg>\n",
              "    </button>\n",
              "\n",
              "  <style>\n",
              "    .colab-df-container {\n",
              "      display:flex;\n",
              "      gap: 12px;\n",
              "    }\n",
              "\n",
              "    .colab-df-convert {\n",
              "      background-color: #E8F0FE;\n",
              "      border: none;\n",
              "      border-radius: 50%;\n",
              "      cursor: pointer;\n",
              "      display: none;\n",
              "      fill: #1967D2;\n",
              "      height: 32px;\n",
              "      padding: 0 0 0 0;\n",
              "      width: 32px;\n",
              "    }\n",
              "\n",
              "    .colab-df-convert:hover {\n",
              "      background-color: #E2EBFA;\n",
              "      box-shadow: 0px 1px 2px rgba(60, 64, 67, 0.3), 0px 1px 3px 1px rgba(60, 64, 67, 0.15);\n",
              "      fill: #174EA6;\n",
              "    }\n",
              "\n",
              "    .colab-df-buttons div {\n",
              "      margin-bottom: 4px;\n",
              "    }\n",
              "\n",
              "    [theme=dark] .colab-df-convert {\n",
              "      background-color: #3B4455;\n",
              "      fill: #D2E3FC;\n",
              "    }\n",
              "\n",
              "    [theme=dark] .colab-df-convert:hover {\n",
              "      background-color: #434B5C;\n",
              "      box-shadow: 0px 1px 3px 1px rgba(0, 0, 0, 0.15);\n",
              "      filter: drop-shadow(0px 1px 2px rgba(0, 0, 0, 0.3));\n",
              "      fill: #FFFFFF;\n",
              "    }\n",
              "  </style>\n",
              "\n",
              "    <script>\n",
              "      const buttonEl =\n",
              "        document.querySelector('#df-6abb70ba-3e16-42a7-a336-4e8487289c04 button.colab-df-convert');\n",
              "      buttonEl.style.display =\n",
              "        google.colab.kernel.accessAllowed ? 'block' : 'none';\n",
              "\n",
              "      async function convertToInteractive(key) {\n",
              "        const element = document.querySelector('#df-6abb70ba-3e16-42a7-a336-4e8487289c04');\n",
              "        const dataTable =\n",
              "          await google.colab.kernel.invokeFunction('convertToInteractive',\n",
              "                                                    [key], {});\n",
              "        if (!dataTable) return;\n",
              "\n",
              "        const docLinkHtml = 'Like what you see? Visit the ' +\n",
              "          '<a target=\"_blank\" href=https://colab.research.google.com/notebooks/data_table.ipynb>data table notebook</a>'\n",
              "          + ' to learn more about interactive tables.';\n",
              "        element.innerHTML = '';\n",
              "        dataTable['output_type'] = 'display_data';\n",
              "        await google.colab.output.renderOutput(dataTable, element);\n",
              "        const docLink = document.createElement('div');\n",
              "        docLink.innerHTML = docLinkHtml;\n",
              "        element.appendChild(docLink);\n",
              "      }\n",
              "    </script>\n",
              "  </div>\n",
              "\n",
              "\n",
              "    <div id=\"df-6527d135-a693-4efb-a020-bfe44703a71e\">\n",
              "      <button class=\"colab-df-quickchart\" onclick=\"quickchart('df-6527d135-a693-4efb-a020-bfe44703a71e')\"\n",
              "                title=\"Suggest charts\"\n",
              "                style=\"display:none;\">\n",
              "\n",
              "<svg xmlns=\"http://www.w3.org/2000/svg\" height=\"24px\"viewBox=\"0 0 24 24\"\n",
              "     width=\"24px\">\n",
              "    <g>\n",
              "        <path d=\"M19 3H5c-1.1 0-2 .9-2 2v14c0 1.1.9 2 2 2h14c1.1 0 2-.9 2-2V5c0-1.1-.9-2-2-2zM9 17H7v-7h2v7zm4 0h-2V7h2v10zm4 0h-2v-4h2v4z\"/>\n",
              "    </g>\n",
              "</svg>\n",
              "      </button>\n",
              "\n",
              "<style>\n",
              "  .colab-df-quickchart {\n",
              "      --bg-color: #E8F0FE;\n",
              "      --fill-color: #1967D2;\n",
              "      --hover-bg-color: #E2EBFA;\n",
              "      --hover-fill-color: #174EA6;\n",
              "      --disabled-fill-color: #AAA;\n",
              "      --disabled-bg-color: #DDD;\n",
              "  }\n",
              "\n",
              "  [theme=dark] .colab-df-quickchart {\n",
              "      --bg-color: #3B4455;\n",
              "      --fill-color: #D2E3FC;\n",
              "      --hover-bg-color: #434B5C;\n",
              "      --hover-fill-color: #FFFFFF;\n",
              "      --disabled-bg-color: #3B4455;\n",
              "      --disabled-fill-color: #666;\n",
              "  }\n",
              "\n",
              "  .colab-df-quickchart {\n",
              "    background-color: var(--bg-color);\n",
              "    border: none;\n",
              "    border-radius: 50%;\n",
              "    cursor: pointer;\n",
              "    display: none;\n",
              "    fill: var(--fill-color);\n",
              "    height: 32px;\n",
              "    padding: 0;\n",
              "    width: 32px;\n",
              "  }\n",
              "\n",
              "  .colab-df-quickchart:hover {\n",
              "    background-color: var(--hover-bg-color);\n",
              "    box-shadow: 0 1px 2px rgba(60, 64, 67, 0.3), 0 1px 3px 1px rgba(60, 64, 67, 0.15);\n",
              "    fill: var(--button-hover-fill-color);\n",
              "  }\n",
              "\n",
              "  .colab-df-quickchart-complete:disabled,\n",
              "  .colab-df-quickchart-complete:disabled:hover {\n",
              "    background-color: var(--disabled-bg-color);\n",
              "    fill: var(--disabled-fill-color);\n",
              "    box-shadow: none;\n",
              "  }\n",
              "\n",
              "  .colab-df-spinner {\n",
              "    border: 2px solid var(--fill-color);\n",
              "    border-color: transparent;\n",
              "    border-bottom-color: var(--fill-color);\n",
              "    animation:\n",
              "      spin 1s steps(1) infinite;\n",
              "  }\n",
              "\n",
              "  @keyframes spin {\n",
              "    0% {\n",
              "      border-color: transparent;\n",
              "      border-bottom-color: var(--fill-color);\n",
              "      border-left-color: var(--fill-color);\n",
              "    }\n",
              "    20% {\n",
              "      border-color: transparent;\n",
              "      border-left-color: var(--fill-color);\n",
              "      border-top-color: var(--fill-color);\n",
              "    }\n",
              "    30% {\n",
              "      border-color: transparent;\n",
              "      border-left-color: var(--fill-color);\n",
              "      border-top-color: var(--fill-color);\n",
              "      border-right-color: var(--fill-color);\n",
              "    }\n",
              "    40% {\n",
              "      border-color: transparent;\n",
              "      border-right-color: var(--fill-color);\n",
              "      border-top-color: var(--fill-color);\n",
              "    }\n",
              "    60% {\n",
              "      border-color: transparent;\n",
              "      border-right-color: var(--fill-color);\n",
              "    }\n",
              "    80% {\n",
              "      border-color: transparent;\n",
              "      border-right-color: var(--fill-color);\n",
              "      border-bottom-color: var(--fill-color);\n",
              "    }\n",
              "    90% {\n",
              "      border-color: transparent;\n",
              "      border-bottom-color: var(--fill-color);\n",
              "    }\n",
              "  }\n",
              "</style>\n",
              "\n",
              "      <script>\n",
              "        async function quickchart(key) {\n",
              "          const quickchartButtonEl =\n",
              "            document.querySelector('#' + key + ' button');\n",
              "          quickchartButtonEl.disabled = true;  // To prevent multiple clicks.\n",
              "          quickchartButtonEl.classList.add('colab-df-spinner');\n",
              "          try {\n",
              "            const charts = await google.colab.kernel.invokeFunction(\n",
              "                'suggestCharts', [key], {});\n",
              "          } catch (error) {\n",
              "            console.error('Error during call to suggestCharts:', error);\n",
              "          }\n",
              "          quickchartButtonEl.classList.remove('colab-df-spinner');\n",
              "          quickchartButtonEl.classList.add('colab-df-quickchart-complete');\n",
              "        }\n",
              "        (() => {\n",
              "          let quickchartButtonEl =\n",
              "            document.querySelector('#df-6527d135-a693-4efb-a020-bfe44703a71e button');\n",
              "          quickchartButtonEl.style.display =\n",
              "            google.colab.kernel.accessAllowed ? 'block' : 'none';\n",
              "        })();\n",
              "      </script>\n",
              "    </div>\n",
              "\n",
              "    </div>\n",
              "  </div>\n"
            ],
            "application/vnd.google.colaboratory.intrinsic+json": {
              "type": "dataframe",
              "variable_name": "gni",
              "summary": "{\n  \"name\": \"gni\",\n  \"rows\": 62,\n  \"fields\": [\n    {\n      \"column\": \"year\",\n      \"properties\": {\n        \"dtype\": \"number\",\n        \"std\": 18,\n        \"min\": 1962,\n        \"max\": 2023,\n        \"num_unique_values\": 62,\n        \"samples\": [\n          2012,\n          2018,\n          1962\n        ],\n        \"semantic_type\": \"\",\n        \"description\": \"\"\n      }\n    },\n    {\n      \"column\": \"GNI\",\n      \"properties\": {\n        \"dtype\": \"number\",\n        \"std\": 138980059080.6116,\n        \"min\": 5775483568.0,\n        \"max\": 496166000000.0,\n        \"num_unique_values\": 62,\n        \"samples\": [\n          278223000000.0,\n          395268000000.0,\n          6917102323.0\n        ],\n        \"semantic_type\": \"\",\n        \"description\": \"\"\n      }\n    }\n  ]\n}"
            }
          },
          "metadata": {},
          "execution_count": 9
        }
      ]
    },
    {
      "cell_type": "code",
      "source": [
        "inflation.head(3)"
      ],
      "metadata": {
        "colab": {
          "base_uri": "https://localhost:8080/",
          "height": 143
        },
        "id": "jRASYX-pfa17",
        "outputId": "03ee0d00-b81c-4026-9b12-52046087b772"
      },
      "execution_count": 10,
      "outputs": [
        {
          "output_type": "execute_result",
          "data": {
            "text/plain": [
              "   year  Inflation Rate\n",
              "0  1960            4.15\n",
              "1  1961            1.60\n",
              "2  1962            5.80"
            ],
            "text/html": [
              "\n",
              "  <div id=\"df-c1a0177e-d012-484c-8999-186f37cbdabc\" class=\"colab-df-container\">\n",
              "    <div>\n",
              "<style scoped>\n",
              "    .dataframe tbody tr th:only-of-type {\n",
              "        vertical-align: middle;\n",
              "    }\n",
              "\n",
              "    .dataframe tbody tr th {\n",
              "        vertical-align: top;\n",
              "    }\n",
              "\n",
              "    .dataframe thead th {\n",
              "        text-align: right;\n",
              "    }\n",
              "</style>\n",
              "<table border=\"1\" class=\"dataframe\">\n",
              "  <thead>\n",
              "    <tr style=\"text-align: right;\">\n",
              "      <th></th>\n",
              "      <th>year</th>\n",
              "      <th>Inflation Rate</th>\n",
              "    </tr>\n",
              "  </thead>\n",
              "  <tbody>\n",
              "    <tr>\n",
              "      <th>0</th>\n",
              "      <td>1960</td>\n",
              "      <td>4.15</td>\n",
              "    </tr>\n",
              "    <tr>\n",
              "      <th>1</th>\n",
              "      <td>1961</td>\n",
              "      <td>1.60</td>\n",
              "    </tr>\n",
              "    <tr>\n",
              "      <th>2</th>\n",
              "      <td>1962</td>\n",
              "      <td>5.80</td>\n",
              "    </tr>\n",
              "  </tbody>\n",
              "</table>\n",
              "</div>\n",
              "    <div class=\"colab-df-buttons\">\n",
              "\n",
              "  <div class=\"colab-df-container\">\n",
              "    <button class=\"colab-df-convert\" onclick=\"convertToInteractive('df-c1a0177e-d012-484c-8999-186f37cbdabc')\"\n",
              "            title=\"Convert this dataframe to an interactive table.\"\n",
              "            style=\"display:none;\">\n",
              "\n",
              "  <svg xmlns=\"http://www.w3.org/2000/svg\" height=\"24px\" viewBox=\"0 -960 960 960\">\n",
              "    <path d=\"M120-120v-720h720v720H120Zm60-500h600v-160H180v160Zm220 220h160v-160H400v160Zm0 220h160v-160H400v160ZM180-400h160v-160H180v160Zm440 0h160v-160H620v160ZM180-180h160v-160H180v160Zm440 0h160v-160H620v160Z\"/>\n",
              "  </svg>\n",
              "    </button>\n",
              "\n",
              "  <style>\n",
              "    .colab-df-container {\n",
              "      display:flex;\n",
              "      gap: 12px;\n",
              "    }\n",
              "\n",
              "    .colab-df-convert {\n",
              "      background-color: #E8F0FE;\n",
              "      border: none;\n",
              "      border-radius: 50%;\n",
              "      cursor: pointer;\n",
              "      display: none;\n",
              "      fill: #1967D2;\n",
              "      height: 32px;\n",
              "      padding: 0 0 0 0;\n",
              "      width: 32px;\n",
              "    }\n",
              "\n",
              "    .colab-df-convert:hover {\n",
              "      background-color: #E2EBFA;\n",
              "      box-shadow: 0px 1px 2px rgba(60, 64, 67, 0.3), 0px 1px 3px 1px rgba(60, 64, 67, 0.15);\n",
              "      fill: #174EA6;\n",
              "    }\n",
              "\n",
              "    .colab-df-buttons div {\n",
              "      margin-bottom: 4px;\n",
              "    }\n",
              "\n",
              "    [theme=dark] .colab-df-convert {\n",
              "      background-color: #3B4455;\n",
              "      fill: #D2E3FC;\n",
              "    }\n",
              "\n",
              "    [theme=dark] .colab-df-convert:hover {\n",
              "      background-color: #434B5C;\n",
              "      box-shadow: 0px 1px 3px 1px rgba(0, 0, 0, 0.15);\n",
              "      filter: drop-shadow(0px 1px 2px rgba(0, 0, 0, 0.3));\n",
              "      fill: #FFFFFF;\n",
              "    }\n",
              "  </style>\n",
              "\n",
              "    <script>\n",
              "      const buttonEl =\n",
              "        document.querySelector('#df-c1a0177e-d012-484c-8999-186f37cbdabc button.colab-df-convert');\n",
              "      buttonEl.style.display =\n",
              "        google.colab.kernel.accessAllowed ? 'block' : 'none';\n",
              "\n",
              "      async function convertToInteractive(key) {\n",
              "        const element = document.querySelector('#df-c1a0177e-d012-484c-8999-186f37cbdabc');\n",
              "        const dataTable =\n",
              "          await google.colab.kernel.invokeFunction('convertToInteractive',\n",
              "                                                    [key], {});\n",
              "        if (!dataTable) return;\n",
              "\n",
              "        const docLinkHtml = 'Like what you see? Visit the ' +\n",
              "          '<a target=\"_blank\" href=https://colab.research.google.com/notebooks/data_table.ipynb>data table notebook</a>'\n",
              "          + ' to learn more about interactive tables.';\n",
              "        element.innerHTML = '';\n",
              "        dataTable['output_type'] = 'display_data';\n",
              "        await google.colab.output.renderOutput(dataTable, element);\n",
              "        const docLink = document.createElement('div');\n",
              "        docLink.innerHTML = docLinkHtml;\n",
              "        element.appendChild(docLink);\n",
              "      }\n",
              "    </script>\n",
              "  </div>\n",
              "\n",
              "\n",
              "    <div id=\"df-95685961-589c-4693-8af2-1df0c07c8e2f\">\n",
              "      <button class=\"colab-df-quickchart\" onclick=\"quickchart('df-95685961-589c-4693-8af2-1df0c07c8e2f')\"\n",
              "                title=\"Suggest charts\"\n",
              "                style=\"display:none;\">\n",
              "\n",
              "<svg xmlns=\"http://www.w3.org/2000/svg\" height=\"24px\"viewBox=\"0 0 24 24\"\n",
              "     width=\"24px\">\n",
              "    <g>\n",
              "        <path d=\"M19 3H5c-1.1 0-2 .9-2 2v14c0 1.1.9 2 2 2h14c1.1 0 2-.9 2-2V5c0-1.1-.9-2-2-2zM9 17H7v-7h2v7zm4 0h-2V7h2v10zm4 0h-2v-4h2v4z\"/>\n",
              "    </g>\n",
              "</svg>\n",
              "      </button>\n",
              "\n",
              "<style>\n",
              "  .colab-df-quickchart {\n",
              "      --bg-color: #E8F0FE;\n",
              "      --fill-color: #1967D2;\n",
              "      --hover-bg-color: #E2EBFA;\n",
              "      --hover-fill-color: #174EA6;\n",
              "      --disabled-fill-color: #AAA;\n",
              "      --disabled-bg-color: #DDD;\n",
              "  }\n",
              "\n",
              "  [theme=dark] .colab-df-quickchart {\n",
              "      --bg-color: #3B4455;\n",
              "      --fill-color: #D2E3FC;\n",
              "      --hover-bg-color: #434B5C;\n",
              "      --hover-fill-color: #FFFFFF;\n",
              "      --disabled-bg-color: #3B4455;\n",
              "      --disabled-fill-color: #666;\n",
              "  }\n",
              "\n",
              "  .colab-df-quickchart {\n",
              "    background-color: var(--bg-color);\n",
              "    border: none;\n",
              "    border-radius: 50%;\n",
              "    cursor: pointer;\n",
              "    display: none;\n",
              "    fill: var(--fill-color);\n",
              "    height: 32px;\n",
              "    padding: 0;\n",
              "    width: 32px;\n",
              "  }\n",
              "\n",
              "  .colab-df-quickchart:hover {\n",
              "    background-color: var(--hover-bg-color);\n",
              "    box-shadow: 0 1px 2px rgba(60, 64, 67, 0.3), 0 1px 3px 1px rgba(60, 64, 67, 0.15);\n",
              "    fill: var(--button-hover-fill-color);\n",
              "  }\n",
              "\n",
              "  .colab-df-quickchart-complete:disabled,\n",
              "  .colab-df-quickchart-complete:disabled:hover {\n",
              "    background-color: var(--disabled-bg-color);\n",
              "    fill: var(--disabled-fill-color);\n",
              "    box-shadow: none;\n",
              "  }\n",
              "\n",
              "  .colab-df-spinner {\n",
              "    border: 2px solid var(--fill-color);\n",
              "    border-color: transparent;\n",
              "    border-bottom-color: var(--fill-color);\n",
              "    animation:\n",
              "      spin 1s steps(1) infinite;\n",
              "  }\n",
              "\n",
              "  @keyframes spin {\n",
              "    0% {\n",
              "      border-color: transparent;\n",
              "      border-bottom-color: var(--fill-color);\n",
              "      border-left-color: var(--fill-color);\n",
              "    }\n",
              "    20% {\n",
              "      border-color: transparent;\n",
              "      border-left-color: var(--fill-color);\n",
              "      border-top-color: var(--fill-color);\n",
              "    }\n",
              "    30% {\n",
              "      border-color: transparent;\n",
              "      border-left-color: var(--fill-color);\n",
              "      border-top-color: var(--fill-color);\n",
              "      border-right-color: var(--fill-color);\n",
              "    }\n",
              "    40% {\n",
              "      border-color: transparent;\n",
              "      border-right-color: var(--fill-color);\n",
              "      border-top-color: var(--fill-color);\n",
              "    }\n",
              "    60% {\n",
              "      border-color: transparent;\n",
              "      border-right-color: var(--fill-color);\n",
              "    }\n",
              "    80% {\n",
              "      border-color: transparent;\n",
              "      border-right-color: var(--fill-color);\n",
              "      border-bottom-color: var(--fill-color);\n",
              "    }\n",
              "    90% {\n",
              "      border-color: transparent;\n",
              "      border-bottom-color: var(--fill-color);\n",
              "    }\n",
              "  }\n",
              "</style>\n",
              "\n",
              "      <script>\n",
              "        async function quickchart(key) {\n",
              "          const quickchartButtonEl =\n",
              "            document.querySelector('#' + key + ' button');\n",
              "          quickchartButtonEl.disabled = true;  // To prevent multiple clicks.\n",
              "          quickchartButtonEl.classList.add('colab-df-spinner');\n",
              "          try {\n",
              "            const charts = await google.colab.kernel.invokeFunction(\n",
              "                'suggestCharts', [key], {});\n",
              "          } catch (error) {\n",
              "            console.error('Error during call to suggestCharts:', error);\n",
              "          }\n",
              "          quickchartButtonEl.classList.remove('colab-df-spinner');\n",
              "          quickchartButtonEl.classList.add('colab-df-quickchart-complete');\n",
              "        }\n",
              "        (() => {\n",
              "          let quickchartButtonEl =\n",
              "            document.querySelector('#df-95685961-589c-4693-8af2-1df0c07c8e2f button');\n",
              "          quickchartButtonEl.style.display =\n",
              "            google.colab.kernel.accessAllowed ? 'block' : 'none';\n",
              "        })();\n",
              "      </script>\n",
              "    </div>\n",
              "\n",
              "    </div>\n",
              "  </div>\n"
            ],
            "application/vnd.google.colaboratory.intrinsic+json": {
              "type": "dataframe",
              "variable_name": "inflation",
              "summary": "{\n  \"name\": \"inflation\",\n  \"rows\": 65,\n  \"fields\": [\n    {\n      \"column\": \"year\",\n      \"properties\": {\n        \"dtype\": \"number\",\n        \"std\": 18,\n        \"min\": 1960,\n        \"max\": 2024,\n        \"num_unique_values\": 65,\n        \"samples\": [\n          2013,\n          2020,\n          1960\n        ],\n        \"semantic_type\": \"\",\n        \"description\": \"\"\n      }\n    },\n    {\n      \"column\": \"Inflation Rate\",\n      \"properties\": {\n        \"dtype\": \"number\",\n        \"std\": 8.07630464871442,\n        \"min\": 0.67,\n        \"max\": 50.34,\n        \"num_unique_values\": 64,\n        \"samples\": [\n          3.03,\n          5.31,\n          4.15\n        ],\n        \"semantic_type\": \"\",\n        \"description\": \"\"\n      }\n    }\n  ]\n}"
            }
          },
          "metadata": {},
          "execution_count": 10
        }
      ]
    },
    {
      "cell_type": "markdown",
      "source": [
        "## Visualizing Data"
      ],
      "metadata": {
        "id": "GzF4AHAsfgz5"
      }
    },
    {
      "cell_type": "code",
      "source": [
        "sns.set_theme(style=\"whitegrid\")\n",
        "\n",
        "plt.figure(figsize=(16, 6))\n",
        "\n",
        "# --- Graph 1: Inflation Rate ---\n",
        "plt.subplot(1, 2, 1)\n",
        "sns.lineplot(x='year', y='Inflation Rate', data=inflation,\n",
        "             color='#800000', marker='o', linewidth=2)\n",
        "plt.title('📈 Philippines Inflation Rate (1965–2024)', fontsize=14, weight='bold')\n",
        "plt.xlabel('Year', fontsize=12)\n",
        "plt.ylabel('Inflation Rate (%)', fontsize=12)\n",
        "plt.xticks(np.arange(1965, 2025, 10), rotation=45)\n",
        "\n",
        "# --- Graph 2: GNI ---\n",
        "plt.subplot(1, 2, 2)\n",
        "sns.lineplot(x='year', y='GNI', data=gni,\n",
        "             color='#FFFF00', marker='o', linewidth=2)\n",
        "plt.title('Philippines Gross National Income (1965–2024)', fontsize=14, weight='bold')\n",
        "plt.xlabel('Year', fontsize=12)\n",
        "plt.ylabel('GNI (USD)', fontsize=12)\n",
        "plt.xticks(np.arange(1965, 2025, 10), rotation=45)\n",
        "\n",
        "plt.tight_layout()\n",
        "plt.show()"
      ],
      "metadata": {
        "colab": {
          "base_uri": "https://localhost:8080/",
          "height": 485
        },
        "id": "pNxDXScNgKkH",
        "outputId": "84ee3178-399b-40cd-9c19-136fc91f9fc8"
      },
      "execution_count": 22,
      "outputs": [
        {
          "output_type": "display_data",
          "data": {
            "text/plain": [
              "<Figure size 1600x600 with 2 Axes>"
            ],
            "image/png": "[encoded data removed]"
          },
          "metadata": {}
        }
      ]
    },
    {
      "cell_type": "markdown",
      "source": [
        "---\n",
        "\n",
        "# Time Series, Explained: Key Characteristics You Should Know"
      ],
      "metadata": {
        "id": "zU8WJm32hv1G"
      }
    },
    {
      "cell_type": "markdown",
      "source": [
        "Before we dive deep into methods and models, it’s important to first understand the building blocks of time series data. Just like you wouldn’t drive a car without knowing how the brakes or gears work, analyzing time series without grasping its core characteristics can lead to wrong turns.\n",
        "\n",
        "In this section, we’ll uncover the key traits that shape time series behavior, namely:\n",
        "\n",
        "- **Stationarity / Mean Reversion** – does the series settle back or drift away?\n",
        "\n",
        "- **Seasonality**\n",
        "\n",
        "- **Structural Breaks**\n",
        "\n",
        "- **Trend**\n",
        "\n",
        "- **Cyclicity**\n",
        "\n",
        "- **Noise**\n",
        "\n",
        "Understanding these characteristics lays the groundwork for making sense of patterns, choosing the right models, and avoiding false conclusions."
      ],
      "metadata": {
        "id": "SmcYylOah-Y4"
      }
    },
    {
      "cell_type": "markdown",
      "source": [
        "## 1. Stationarity / Mean Reversion\n",
        "\n",
        "- **What it is:**\n",
        "\n",
        "\n",
        "- **Why it matters:**"
      ],
      "metadata": {
        "id": "N-9asUBYjAln"
      }
    },
    {
      "cell_type": "markdown",
      "source": [
        "> **For graph 1 (Inflation Rate)**\n",
        "\n",
        "<div style=\"background-color: #d4edda; color: #155724; padding: 15px; border: 1px solid #c3e6cb; border-radius: .25rem;\">\n",
        "  <p> Text here. </p>\n",
        "</div>"
      ],
      "metadata": {
        "id": "c8nv5oicjKjG"
      }
    },
    {
      "cell_type": "markdown",
      "source": [
        "> **For Graph 2 (GNI)**\n",
        "\n",
        "<div style=\"background-color: #d4edda; color: #155724; padding: 15px; border: 1px solid #c3e6cb; border-radius: .25rem;\">\n",
        "  <p> Text here. </p>\n",
        "</div>"
      ],
      "metadata": {
        "id": "584GhQbHjN_K"
      }
    },
    {
      "cell_type": "markdown",
      "source": [
        "## 2. Seasonality\n",
        "\n",
        "- **What it is:**\n",
        "\n",
        "\n",
        "- **Why it matters:**"
      ],
      "metadata": {
        "id": "jVzjFXqRjQlT"
      }
    },
    {
      "cell_type": "markdown",
      "source": [
        "> **For graph 1 (Inflation Rate)**\n",
        "\n",
        "<div style=\"background-color: #d4edda; color: #155724; padding: 15px; border: 1px solid #c3e6cb; border-radius: .25rem;\">\n",
        "  <p> Text here. </p>\n",
        "</div>"
      ],
      "metadata": {
        "id": "a_ARCic6jVUs"
      }
    },
    {
      "cell_type": "markdown",
      "source": [
        "> **For Graph 2 (GNI)**\n",
        "\n",
        "<div style=\"background-color: #d4edda; color: #155724; padding: 15px; border: 1px solid #c3e6cb; border-radius: .25rem;\">\n",
        "  <p> Text here. </p>\n",
        "</div>"
      ],
      "metadata": {
        "id": "iTrH-dZejXR9"
      }
    },
    {
      "cell_type": "markdown",
      "source": [
        "## 3. Structural Breaks\n",
        "\n",
        "- **What it is:**\n",
        "\n",
        "\n",
        "- **Why it matters:**"
      ],
      "metadata": {
        "id": "Wfpew-1ljZy5"
      }
    },
    {
      "cell_type": "markdown",
      "source": [
        "> **For graph 1 (Inflation Rate)**\n",
        "\n",
        "<div style=\"background-color: #d4edda; color: #155724; padding: 15px; border: 1px solid #c3e6cb; border-radius: .25rem;\">\n",
        "  <p> Text here. </p>\n",
        "</div>"
      ],
      "metadata": {
        "id": "iz9AMntOnjNl"
      }
    },
    {
      "cell_type": "markdown",
      "source": [
        "> **For Graph 2 (GNI)**\n",
        "\n",
        "<div style=\"background-color: #d4edda; color: #155724; padding: 15px; border: 1px solid #c3e6cb; border-radius: .25rem;\">\n",
        "  <p> Text here. </p>\n",
        "</div>"
      ],
      "metadata": {
        "id": "dAHC83-3nhdD"
      }
    },
    {
      "cell_type": "markdown",
      "source": [
        "## 4. Trend\n",
        "- **What it is:**\n",
        "\n",
        "\n",
        "- **Why it matters:**"
      ],
      "metadata": {
        "id": "48zcWs-rjhdz"
      }
    },
    {
      "cell_type": "markdown",
      "source": [
        "> **For graph 1 (Inflation Rate)**\n",
        "\n",
        "<div style=\"background-color: #d4edda; color: #155724; padding: 15px; border: 1px solid #c3e6cb; border-radius: .25rem;\">\n",
        "  <p> Text here. </p>\n",
        "</div>"
      ],
      "metadata": {
        "id": "pWEZQN5RjjCT"
      }
    },
    {
      "cell_type": "markdown",
      "source": [
        "> **For Graph 2 (GNI)**\n",
        "\n",
        "<div style=\"background-color: #d4edda; color: #155724; padding: 15px; border: 1px solid #c3e6cb; border-radius: .25rem;\">\n",
        "  <p> Text here. </p>\n",
        "</div>"
      ],
      "metadata": {
        "id": "z4LcKQmPjkxw"
      }
    },
    {
      "cell_type": "markdown",
      "source": [
        "## 5. Cyclicity\n",
        "\n",
        "- **What it is:**\n",
        "\n",
        "\n",
        "- **Why it matters:**\n"
      ],
      "metadata": {
        "id": "wPwkcuSnjmmL"
      }
    },
    {
      "cell_type": "markdown",
      "source": [
        "> **For graph 1 (Inflation Rate)**\n",
        "\n",
        "<div style=\"background-color: #d4edda; color: #155724; padding: 15px; border: 1px solid #c3e6cb; border-radius: .25rem;\">\n",
        "  <p> Text here. </p>\n",
        "</div>"
      ],
      "metadata": {
        "id": "wm32B6D-jpbK"
      }
    },
    {
      "cell_type": "markdown",
      "source": [
        "> **For Graph 2 (GNI)**\n",
        "\n",
        "<div style=\"background-color: #d4edda; color: #155724; padding: 15px; border: 1px solid #c3e6cb; border-radius: .25rem;\">\n",
        "  <p> Text here. </p>\n",
        "</div>"
      ],
      "metadata": {
        "id": "CsiR9u0GjrWm"
      }
    },
    {
      "cell_type": "markdown",
      "source": [
        "## 6. Noise\n",
        "\n",
        "- **What it is:**\n",
        "Noise represents random, unpredictable variations in the data that cannot be explained by trends, seasonality, or cycles. It’s the “white fuzz” that makes the series harder to model.\n",
        "\n",
        "- **Why it matters:**\n",
        "Noise cannot be predicted and does not contribute to meaningful patterns. The goal of time series analysis is often to filter out noise so that real underlying patterns can be observed."
      ],
      "metadata": {
        "id": "zS8V7Bw3jybu"
      }
    },
    {
      "cell_type": "markdown",
      "source": [
        "> **For graph 1 (Inflation Rate)**\n",
        "\n",
        "<div style=\"background-color: #d4edda; color: #155724; padding: 15px; border: 1px solid #c3e6cb; border-radius: .25rem;\">\n",
        "  <p>The inflation series is characterized by a high level of noise, particularly in the earlier decades. The sharp and unpredictable spikes during the 1970s and 1980s reflect random fluctuations that obscure any smooth or predictable pattern. These noisy elements make forecasting inflation during that era particularly difficult. However, after 2000, the degree of noise diminishes. Inflation values become smoother, showing smaller and less erratic changes, which indicates a reduction in random volatility and greater predictability in the more recent period.</p>\n",
        "</div>"
      ],
      "metadata": {
        "id": "uB4TCpHkj-8g"
      }
    },
    {
      "cell_type": "markdown",
      "source": [
        "> **For Graph 2 (GNI)**\n",
        "\n",
        "<div style=\"background-color: #d4edda; color: #155724; padding: 15px; border: 1px solid #c3e6cb; border-radius: .25rem;\">\n",
        "  <p>Noise is relatively low in this series. Unlike inflation, where random fluctuations obscure the signal, GNI follows a smooth and steady trajectory with only minor deviations. Even when downturns occur, the series quickly resumes its upward path, and these variations are small in proportion to the long-term growth trend. This makes GNI data more predictable and easier to model, as the trend dominates and random fluctuations play a very limited role.</p>\n",
        "</div>"
      ],
      "metadata": {
        "id": "lRwofC32kAhz"
      }
    },
    {
      "cell_type": "markdown",
      "source": [
        "---\n",
        "\n",
        "## What the Data Says—and What We Should Do"
      ],
      "metadata": {
        "id": "TtspI9SpkCQf"
      }
    },
    {
      "cell_type": "markdown",
      "source": [
        "<div style=\"background-color: #d4edda; color: #155724; padding: 15px; border: 1px solid #c3e6cb; border-radius: .25rem;\">\n",
        "\n",
        "  <p>From the **GNI series**, the story is clear: <span style=\"color:red;\">Filipinos’ collective income has expanded massively from 1965 to 2024.</span> This upward trajectory reflects both economic growth and the significant role of overseas remittances. The trend suggests resilience — despite political upheavals, global recessions, and crises, the Philippines consistently found ways to grow its income base. However, the structural breaks in the data remind us that this growth has not been uniform. Dips during the early 1980s, late 1990s, and late 2000s highlight vulnerabilities to both internal political instability and external shocks. An assumption here is that while income will likely continue to rise in the long run, the pace of growth remains exposed to global markets and domestic governance.</p>\n",
        "\n",
        "  <p>The **inflation series** tells a far more turbulent story. Unlike the smooth growth of GNI, inflation swings wildly across decades, with extreme volatility in the 1970s and 1980s before stabilizing in more recent years. The data reflects how the nation experienced these shocks: even if nominal income was rising, hyperinflationary periods eroded purchasing power so sharply that real welfare deteriorated. An important insight here is that <span style=\"color:red;\">growth in GNI does not automatically translate into better living conditions; stability in inflation is equally critical.</span></p>\n",
        "</div>"
      ],
      "metadata": {
        "id": "mwKXE6p5ojyc"
      }
    },
    {
      "cell_type": "code",
      "source": [],
      "metadata": {
        "id": "ISi2IKddjUuc"
      },
      "execution_count": null,
      "outputs": []
    }
  ]
}